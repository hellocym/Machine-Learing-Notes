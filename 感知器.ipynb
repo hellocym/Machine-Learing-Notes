{
 "cells": [
  {
   "cell_type": "markdown",
   "id": "acd5aa6d",
   "metadata": {},
   "source": [
    "# 感知器"
   ]
  },
  {
   "cell_type": "markdown",
   "id": "c4421b4b",
   "metadata": {},
   "source": [
    "分类问题：判断一个东西是不是猫"
   ]
  },
  {
   "cell_type": "markdown",
   "id": "4d329663",
   "metadata": {},
   "source": [
    "特征：体型小、有尾巴、全身被毛、会爬树"
   ]
  },
  {
   "cell_type": "markdown",
   "id": "79e7c9ef",
   "metadata": {},
   "source": [
    "样本："
   ]
  },
  {
   "cell_type": "markdown",
   "id": "0a5a2109",
   "metadata": {},
   "source": [
    "| |体型小|有尾巴|全身被毛|会爬树|是猫|\n",
    "|---|---|---|---|---|---|\n",
    "|猫|1|1|1|1|1|\n",
    "|狗|1|1|1|-1|-1|\n",
    "|人|1|-1|-1|1|-1|\n",
    "|猩猩|1|-1|1|1|-1|\n",
    "|彗星|-1|1|-1|-1|-1|"
   ]
  },
  {
   "cell_type": "markdown",
   "id": "843f7459",
   "metadata": {},
   "source": [
    "激活函数： 阶跃函数"
   ]
  },
  {
   "cell_type": "markdown",
   "id": "4af72673",
   "metadata": {},
   "source": [
    "$$\n",
    "f(x)=\n",
    "\\begin{cases}\n",
    "1& x>0\\\\\n",
    "-1& x \\leq 0\n",
    "\\end{cases}\n",
    "$$"
   ]
  },
  {
   "cell_type": "code",
   "execution_count": 62,
   "id": "0c05622f",
   "metadata": {},
   "outputs": [],
   "source": [
    "class Perceptron(object):\n",
    "    def __init__(self, para_num, activator):\n",
    "        self.activator = activator\n",
    "        self.para_num = para_num\n",
    "        self.weights = [0 for x in range(para_num)]\n",
    "        self.bias = 0.0\n",
    "        \n",
    "    def __str__(self):\n",
    "        return f'weights: {self.weights}\\nbias: {self.bias}'\n",
    "    \n",
    "    def predict(self, input_vec):\n",
    "        return self.activator(sum([self.weights[x] * input_vec[x] for x in range(self.para_num)]) + self.bias)\n",
    "    \n",
    "    def train(self, input_vecs, labels, iteration, learning_rate):\n",
    "        for i in range(iteration):\n",
    "            self._iterate_once(input_vecs, labels, learning_rate)\n",
    "            print(f'iter {i} done.')\n",
    "            # print(self.weights)\n",
    "            \n",
    "    def _iterate_once(self, input_vecs, labels, learning_rate):\n",
    "        sample = zip(input_vecs, labels)\n",
    "        for (input_vec, label) in sample:\n",
    "            output = self.predict(input_vec)\n",
    "            self._update_weights(input_vec, output, label, learning_rate)\n",
    "            \n",
    "    def _update_weights(self, input_vec, output, label, learning_rate):\n",
    "        delta = label - output\n",
    "        self.weights = [self.weights[x] + learning_rate * delta * input_vec[x] for x in range(self.para_num)]\n",
    "        self.bias += learning_rate * delta"
   ]
  },
  {
   "cell_type": "code",
   "execution_count": 63,
   "id": "9689156b",
   "metadata": {},
   "outputs": [
    {
     "name": "stdout",
     "output_type": "stream",
     "text": [
      "iter 0 done.\n",
      "iter 1 done.\n",
      "iter 2 done.\n",
      "iter 3 done.\n",
      "iter 4 done.\n",
      "iter 5 done.\n",
      "iter 6 done.\n",
      "iter 7 done.\n",
      "iter 8 done.\n",
      "iter 9 done.\n",
      "weights: [-0.2, 0.2, 0.2, 0.2]\n",
      "bias: -0.2\n"
     ]
    }
   ],
   "source": [
    "def StepFunction(x):\n",
    "        return 1 if x > 0 else -1\n",
    "    \n",
    "def train(input_vecs, labels):\n",
    "    p = Perceptron(4, StepFunction)\n",
    "    p.train(input_vecs, labels, 10, 0.1)\n",
    "    return p\n",
    "    \n",
    "input_vecs = [\n",
    "                [1,1,1,1],\n",
    "                [1,1,1,-1],\n",
    "                [1,-1,-1,1],\n",
    "                [1,-1,1,1],\n",
    "                [-1,1,-1,-1]             \n",
    "             ]\n",
    "\n",
    "labels = [1, -1, -1, -1, -1]\n",
    "\n",
    "if __name__ == '__main__':\n",
    "    cat_perceptron = train(input_vecs, labels)\n",
    "    print(cat_perceptron)\n",
    "    "
   ]
  },
  {
   "cell_type": "code",
   "execution_count": 64,
   "id": "1df61708",
   "metadata": {},
   "outputs": [
    {
     "name": "stdout",
     "output_type": "stream",
     "text": [
      "1\n",
      "-1\n",
      "-1\n",
      "-1\n",
      "-1\n"
     ]
    }
   ],
   "source": [
    "print(cat_perceptron.predict([1,1,1,1]))\n",
    "print(cat_perceptron.predict([1,1,1,-1]))\n",
    "print(cat_perceptron.predict([1,-1,-1,1]))\n",
    "print(cat_perceptron.predict([1,-1,1,1]))\n",
    "print(cat_perceptron.predict([-1,1,-1,-1]))"
   ]
  },
  {
   "cell_type": "code",
   "execution_count": null,
   "id": "873665c8",
   "metadata": {},
   "outputs": [],
   "source": []
  }
 ],
 "metadata": {
  "kernelspec": {
   "display_name": "Pytorch for Deeplearning",
   "language": "python",
   "name": "pytorch"
  },
  "language_info": {
   "codemirror_mode": {
    "name": "ipython",
    "version": 3
   },
   "file_extension": ".py",
   "mimetype": "text/x-python",
   "name": "python",
   "nbconvert_exporter": "python",
   "pygments_lexer": "ipython3",
   "version": "3.9.7"
  }
 },
 "nbformat": 4,
 "nbformat_minor": 5
}
