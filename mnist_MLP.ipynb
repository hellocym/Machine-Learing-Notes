{
 "cells": [
  {
   "cell_type": "code",
   "execution_count": 1,
   "id": "79b3ea04",
   "metadata": {
    "execution": {
     "iopub.execute_input": "2022-03-14T12:04:38.191330Z",
     "iopub.status.busy": "2022-03-14T12:04:38.189842Z",
     "iopub.status.idle": "2022-03-14T12:04:39.798145Z",
     "shell.execute_reply": "2022-03-14T12:04:39.797565Z",
     "shell.execute_reply.started": "2022-03-14T11:15:04.093255Z"
    },
    "papermill": {
     "duration": 1.628391,
     "end_time": "2022-03-14T12:04:39.798305",
     "exception": false,
     "start_time": "2022-03-14T12:04:38.169914",
     "status": "completed"
    },
    "tags": []
   },
   "outputs": [],
   "source": [
    "import numpy as np\n",
    "import matplotlib.pyplot as plt\n",
    "import torch\n",
    "import torchvision\n",
    "from torchvision.utils import make_grid\n",
    "from torch.utils.data import Dataset, DataLoader\n",
    "import pandas as pd\n",
    "from torchvision import transforms\n",
    "import torch.nn as nn\n",
    "import torch.optim as optim"
   ]
  },
  {
   "cell_type": "markdown",
   "id": "a34828e1",
   "metadata": {
    "papermill": {
     "duration": 0.015913,
     "end_time": "2022-03-14T12:04:39.832714",
     "exception": false,
     "start_time": "2022-03-14T12:04:39.816801",
     "status": "completed"
    },
    "tags": []
   },
   "source": [
    "# 数据集信息"
   ]
  },
  {
   "cell_type": "code",
   "execution_count": 2,
   "id": "bfc5fe5d",
   "metadata": {
    "execution": {
     "iopub.execute_input": "2022-03-14T12:04:39.870536Z",
     "iopub.status.busy": "2022-03-14T12:04:39.869953Z",
     "iopub.status.idle": "2022-03-14T12:04:43.038755Z",
     "shell.execute_reply": "2022-03-14T12:04:43.039498Z",
     "shell.execute_reply.started": "2022-03-14T11:15:05.932254Z"
    },
    "papermill": {
     "duration": 3.191439,
     "end_time": "2022-03-14T12:04:43.039781",
     "exception": false,
     "start_time": "2022-03-14T12:04:39.848342",
     "status": "completed"
    },
    "tags": []
   },
   "outputs": [
    {
     "name": "stdout",
     "output_type": "stream",
     "text": [
      "训练集\n",
      "样本数量：42000\n",
      "图片大小：784\n",
      "类数量：10\n"
     ]
    }
   ],
   "source": [
    "print('训练集')\n",
    "train_df = pd.read_csv('../input/digit-recognizer/train.csv')\n",
    "n_train = len(train_df)\n",
    "n_pixels = len(train_df.columns) - 1\n",
    "n_class = len(set(train_df['label']))\n",
    "print(f'样本数量：{n_train}')\n",
    "print(f'图片大小：{n_pixels}')\n",
    "print(f'类数量：{n_class}')"
   ]
  },
  {
   "cell_type": "code",
   "execution_count": 3,
   "id": "5acea74f",
   "metadata": {
    "execution": {
     "iopub.execute_input": "2022-03-14T12:04:43.078932Z",
     "iopub.status.busy": "2022-03-14T12:04:43.078414Z",
     "iopub.status.idle": "2022-03-14T12:04:44.820436Z",
     "shell.execute_reply": "2022-03-14T12:04:44.819927Z",
     "shell.execute_reply.started": "2022-03-14T11:15:09.377956Z"
    },
    "papermill": {
     "duration": 1.762677,
     "end_time": "2022-03-14T12:04:44.820566",
     "exception": false,
     "start_time": "2022-03-14T12:04:43.057889",
     "status": "completed"
    },
    "tags": []
   },
   "outputs": [
    {
     "name": "stdout",
     "output_type": "stream",
     "text": [
      "测试集\n",
      "样本数量：28000\n",
      "图片大小：784\n"
     ]
    }
   ],
   "source": [
    "print('测试集')\n",
    "test_df = pd.read_csv('../input/digit-recognizer/test.csv')\n",
    "n_test = len(test_df)\n",
    "n_pixels = len(test_df.columns)\n",
    "print(f'样本数量：{n_test}')\n",
    "print(f'图片大小：{n_pixels}')"
   ]
  },
  {
   "cell_type": "markdown",
   "id": "46cbab1e",
   "metadata": {
    "papermill": {
     "duration": 0.0169,
     "end_time": "2022-03-14T12:04:44.854466",
     "exception": false,
     "start_time": "2022-03-14T12:04:44.837566",
     "status": "completed"
    },
    "tags": []
   },
   "source": [
    "# 数据集可视化"
   ]
  },
  {
   "cell_type": "code",
   "execution_count": 4,
   "id": "9089bb38",
   "metadata": {
    "execution": {
     "iopub.execute_input": "2022-03-14T12:04:44.896449Z",
     "iopub.status.busy": "2022-03-14T12:04:44.895330Z",
     "iopub.status.idle": "2022-03-14T12:04:44.898243Z",
     "shell.execute_reply": "2022-03-14T12:04:44.897805Z",
     "shell.execute_reply.started": "2022-03-14T11:15:11.086481Z"
    },
    "papermill": {
     "duration": 0.026586,
     "end_time": "2022-03-14T12:04:44.898352",
     "exception": false,
     "start_time": "2022-03-14T12:04:44.871766",
     "status": "completed"
    },
    "tags": []
   },
   "outputs": [],
   "source": [
    "random_sel = np.random.randint(len(train_df), size=8)\n",
    "data = (train_df.iloc[random_sel, 1:].values.reshape(-1,1,28,28)/255.)"
   ]
  },
  {
   "cell_type": "code",
   "execution_count": 5,
   "id": "b1b0591e",
   "metadata": {
    "execution": {
     "iopub.execute_input": "2022-03-14T12:04:44.937562Z",
     "iopub.status.busy": "2022-03-14T12:04:44.936983Z",
     "iopub.status.idle": "2022-03-14T12:04:45.068805Z",
     "shell.execute_reply": "2022-03-14T12:04:45.068363Z",
     "shell.execute_reply.started": "2022-03-14T11:15:11.096298Z"
    },
    "papermill": {
     "duration": 0.153892,
     "end_time": "2022-03-14T12:04:45.068912",
     "exception": false,
     "start_time": "2022-03-14T12:04:44.915020",
     "status": "completed"
    },
    "tags": []
   },
   "outputs": [
    {
     "name": "stdout",
     "output_type": "stream",
     "text": [
      "6, 5, 1, 1, 0, 2, 7, 1\n"
     ]
    },
    {
     "data": {
      "image/png": "[encoded data removed]",
      "text/plain": [
       "<Figure size 1152x144 with 1 Axes>"
      ]
     },
     "metadata": {
      "needs_background": "light"
     },
     "output_type": "display_data"
    }
   ],
   "source": [
    "grid = make_grid(torch.Tensor(data), nrow=8)\n",
    "plt.rcParams['figure.figsize'] = (16, 2)\n",
    "plt.imshow(grid.numpy().transpose((1,2,0)))\n",
    "plt.axis('off')\n",
    "plt.show\n",
    "print(*list(train_df.iloc[random_sel, 0].values), sep = ', ')"
   ]
  },
  {
   "cell_type": "code",
   "execution_count": 6,
   "id": "a39cf3ad",
   "metadata": {
    "execution": {
     "iopub.execute_input": "2022-03-14T12:04:45.159774Z",
     "iopub.status.busy": "2022-03-14T12:04:45.158655Z",
     "iopub.status.idle": "2022-03-14T12:04:45.328851Z",
     "shell.execute_reply": "2022-03-14T12:04:45.329527Z",
     "shell.execute_reply.started": "2022-03-14T11:15:11.229700Z"
    },
    "papermill": {
     "duration": 0.228428,
     "end_time": "2022-03-14T12:04:45.329658",
     "exception": false,
     "start_time": "2022-03-14T12:04:45.101230",
     "status": "completed"
    },
    "tags": []
   },
   "outputs": [
    {
     "data": {
      "image/png": "[encoded data removed]",
      "text/plain": [
       "<Figure size 576x360 with 1 Axes>"
      ]
     },
     "metadata": {
      "needs_background": "light"
     },
     "output_type": "display_data"
    }
   ],
   "source": [
    "plt.figure(figsize=(8,5))\n",
    "plt.bar(train_df['label'].value_counts().index, train_df['label'].value_counts())\n",
    "plt.xticks(np.arange(n_class))\n",
    "plt.xlabel('Class', fontsize=16)\n",
    "plt.ylabel('Count', fontsize=16)\n",
    "plt.grid('on', axis='y')\n",
    "plt.show()"
   ]
  },
  {
   "cell_type": "markdown",
   "id": "bb970fa4",
   "metadata": {
    "papermill": {
     "duration": 0.018281,
     "end_time": "2022-03-14T12:04:45.366424",
     "exception": false,
     "start_time": "2022-03-14T12:04:45.348143",
     "status": "completed"
    },
    "tags": []
   },
   "source": [
    "# 构建dataset"
   ]
  },
  {
   "cell_type": "code",
   "execution_count": 7,
   "id": "be71ae01",
   "metadata": {
    "execution": {
     "iopub.execute_input": "2022-03-14T12:04:45.415118Z",
     "iopub.status.busy": "2022-03-14T12:04:45.413577Z",
     "iopub.status.idle": "2022-03-14T12:04:45.415731Z",
     "shell.execute_reply": "2022-03-14T12:04:45.416153Z",
     "shell.execute_reply.started": "2022-03-14T11:15:11.452334Z"
    },
    "papermill": {
     "duration": 0.031023,
     "end_time": "2022-03-14T12:04:45.416276",
     "exception": false,
     "start_time": "2022-03-14T12:04:45.385253",
     "status": "completed"
    },
    "tags": []
   },
   "outputs": [],
   "source": [
    "class MNIST_data(Dataset):\n",
    "    def __init__(self, csv_file, dataset_type, transform=transforms.Compose([transforms.ToPILImage(),\n",
    "                                                                transforms.ToTensor(),\n",
    "                                                                transforms.Normalize(mean=(0.5,), std=(0.5,))])):\n",
    "        df = csv_file\n",
    "        if dataset_type == 'test':\n",
    "            self.X = df.values.reshape((-1, 28, 28)).astype(np.uint8)[:, :, :, None]\n",
    "            self.y = None\n",
    "        else:\n",
    "            self.X = df.iloc[:, 1:].values.reshape((-1, 28, 28)).astype(np.uint8)[:, :, :, None]\n",
    "            self.y = torch.from_numpy(df.iloc[:, 0].values)\n",
    "        self.transform = transform\n",
    "    \n",
    "    def __len__(self):\n",
    "        return len(self.X)\n",
    "    \n",
    "    def __getitem__(self, idx):\n",
    "        if self.y is not None:\n",
    "            return self.transform(self.X[idx]), self.y[idx]\n",
    "        else:\n",
    "            return self.transform(self.X[idx])"
   ]
  },
  {
   "cell_type": "code",
   "execution_count": 8,
   "id": "259c771f",
   "metadata": {
    "execution": {
     "iopub.execute_input": "2022-03-14T12:04:45.458930Z",
     "iopub.status.busy": "2022-03-14T12:04:45.458100Z",
     "iopub.status.idle": "2022-03-14T12:04:45.509482Z",
     "shell.execute_reply": "2022-03-14T12:04:45.508979Z",
     "shell.execute_reply.started": "2022-03-14T11:15:11.463797Z"
    },
    "papermill": {
     "duration": 0.075137,
     "end_time": "2022-03-14T12:04:45.509626",
     "exception": false,
     "start_time": "2022-03-14T12:04:45.434489",
     "status": "completed"
    },
    "tags": []
   },
   "outputs": [],
   "source": [
    "batch_size = 64\n",
    "\n",
    "train_dataset = MNIST_data(train_df,\n",
    "                           dataset_type='train',\n",
    "                           transform=transforms.Compose([\n",
    "                            transforms.ToPILImage(),\n",
    "                            transforms.RandomRotation(degrees=20),\n",
    "                            transforms.ToTensor(),\n",
    "                            transforms.Normalize(mean=(0.5,), std=(0.5,))]))\n",
    "test_dataset = MNIST_data(test_df,\n",
    "                          dataset_type='test')\n",
    "\n",
    "train_loader = DataLoader(dataset=train_dataset,\n",
    "                          batch_size=batch_size,\n",
    "                          shuffle=True)\n",
    "test_loader = DataLoader(dataset=test_dataset,\n",
    "                         batch_size=batch_size,\n",
    "                         shuffle=False)"
   ]
  },
  {
   "cell_type": "markdown",
   "id": "e68cb778",
   "metadata": {
    "papermill": {
     "duration": 0.018326,
     "end_time": "2022-03-14T12:04:45.546742",
     "exception": false,
     "start_time": "2022-03-14T12:04:45.528416",
     "status": "completed"
    },
    "tags": []
   },
   "source": [
    "# 构建模型"
   ]
  },
  {
   "cell_type": "code",
   "execution_count": 9,
   "id": "4b672a71",
   "metadata": {
    "execution": {
     "iopub.execute_input": "2022-03-14T12:04:45.593564Z",
     "iopub.status.busy": "2022-03-14T12:04:45.592775Z",
     "iopub.status.idle": "2022-03-14T12:04:45.595177Z",
     "shell.execute_reply": "2022-03-14T12:04:45.594764Z",
     "shell.execute_reply.started": "2022-03-14T11:35:36.934598Z"
    },
    "papermill": {
     "duration": 0.030157,
     "end_time": "2022-03-14T12:04:45.595284",
     "exception": false,
     "start_time": "2022-03-14T12:04:45.565127",
     "status": "completed"
    },
    "tags": []
   },
   "outputs": [],
   "source": [
    "class Net(nn.Module):\n",
    "    def __init__(self):\n",
    "        super(Net, self).__init__()\n",
    "\n",
    "        hidden_size = 500\n",
    "        self.features3 = nn.Sequential(\n",
    "            nn.Linear(28 * 28, hidden_size),\n",
    "            nn.Dropout(p=0.5),\n",
    "            nn.ReLU(),\n",
    "            nn.Linear(hidden_size, 10)\n",
    "        )\n",
    "        self.features3_1 = nn.Sequential(\n",
    "            nn.Linear(28 * 28, 100),\n",
    "            nn.ReLU(),\n",
    "            nn.Linear(100, 100),\n",
    "            nn.ReLU(),\n",
    "            nn.Linear(100, 10)\n",
    "        )\n",
    "        self.features4 = nn.Sequential(\n",
    "            nn.Linear(28 * 28, hidden_size),\n",
    "            nn.Dropout(p=0.5),\n",
    "            nn.ReLU(),\n",
    "            nn.Linear(hidden_size, 100),\n",
    "            nn.Dropout(p=0.5),\n",
    "            nn.ReLU(),\n",
    "            nn.Linear(100, 10),\n",
    "        )\n",
    "        self.features5 = nn.Sequential(\n",
    "            nn.Linear(28 * 28, hidden_size),\n",
    "            nn.Dropout(p=0.5),\n",
    "            nn.ReLU(),\n",
    "            nn.Linear(hidden_size, 200),\n",
    "            nn.Dropout(p=0.5),\n",
    "            nn.ReLU(),\n",
    "            nn.Linear(200, 100),\n",
    "            nn.Dropout(p=0.5),\n",
    "            nn.ReLU(),\n",
    "            nn.Linear(100, 10),\n",
    "        )\n",
    "    \n",
    "    def forward(self, x):\n",
    "        # x = nn.Flatten(x)\n",
    "        x = self.features3_1(x)\n",
    "        return x\n",
    "    "
   ]
  },
  {
   "cell_type": "code",
   "execution_count": 10,
   "id": "dc7b896b",
   "metadata": {
    "execution": {
     "iopub.execute_input": "2022-03-14T12:04:45.687576Z",
     "iopub.status.busy": "2022-03-14T12:04:45.686971Z",
     "iopub.status.idle": "2022-03-14T12:04:48.423760Z",
     "shell.execute_reply": "2022-03-14T12:04:48.424393Z",
     "shell.execute_reply.started": "2022-03-14T11:57:00.844925Z"
    },
    "papermill": {
     "duration": 2.810935,
     "end_time": "2022-03-14T12:04:48.424599",
     "exception": false,
     "start_time": "2022-03-14T12:04:45.613664",
     "status": "completed"
    },
    "tags": []
   },
   "outputs": [
    {
     "name": "stdout",
     "output_type": "stream",
     "text": [
      "Net(\n",
      "  (features3): Sequential(\n",
      "    (0): Linear(in_features=784, out_features=500, bias=True)\n",
      "    (1): Dropout(p=0.5, inplace=False)\n",
      "    (2): ReLU()\n",
      "    (3): Linear(in_features=500, out_features=10, bias=True)\n",
      "  )\n",
      "  (features3_1): Sequential(\n",
      "    (0): Linear(in_features=784, out_features=100, bias=True)\n",
      "    (1): ReLU()\n",
      "    (2): Linear(in_features=100, out_features=100, bias=True)\n",
      "    (3): ReLU()\n",
      "    (4): Linear(in_features=100, out_features=10, bias=True)\n",
      "  )\n",
      "  (features4): Sequential(\n",
      "    (0): Linear(in_features=784, out_features=500, bias=True)\n",
      "    (1): Dropout(p=0.5, inplace=False)\n",
      "    (2): ReLU()\n",
      "    (3): Linear(in_features=500, out_features=100, bias=True)\n",
      "    (4): Dropout(p=0.5, inplace=False)\n",
      "    (5): ReLU()\n",
      "    (6): Linear(in_features=100, out_features=10, bias=True)\n",
      "  )\n",
      "  (features5): Sequential(\n",
      "    (0): Linear(in_features=784, out_features=500, bias=True)\n",
      "    (1): Dropout(p=0.5, inplace=False)\n",
      "    (2): ReLU()\n",
      "    (3): Linear(in_features=500, out_features=200, bias=True)\n",
      "    (4): Dropout(p=0.5, inplace=False)\n",
      "    (5): ReLU()\n",
      "    (6): Linear(in_features=200, out_features=100, bias=True)\n",
      "    (7): Dropout(p=0.5, inplace=False)\n",
      "    (8): ReLU()\n",
      "    (9): Linear(in_features=100, out_features=10, bias=True)\n",
      "  )\n",
      ")\n"
     ]
    }
   ],
   "source": [
    "device = 'cuda' if torch.cuda.is_available() else 'cpu'\n",
    "model = Net().to(device)\n",
    "optimizer = optim.Adam(model.parameters(), lr=0.001)\n",
    "criterion = nn.CrossEntropyLoss().to(device)\n",
    "exp_lr_scheduler = optim.lr_scheduler.StepLR(optimizer, step_size=7, gamma=0.1)\n",
    "print(model)"
   ]
  },
  {
   "cell_type": "markdown",
   "id": "656e6422",
   "metadata": {
    "papermill": {
     "duration": 0.018975,
     "end_time": "2022-03-14T12:04:48.464167",
     "exception": false,
     "start_time": "2022-03-14T12:04:48.445192",
     "status": "completed"
    },
    "tags": []
   },
   "source": [
    "# 训练模型"
   ]
  },
  {
   "cell_type": "code",
   "execution_count": 11,
   "id": "76bb6c18",
   "metadata": {
    "execution": {
     "iopub.execute_input": "2022-03-14T12:04:48.508690Z",
     "iopub.status.busy": "2022-03-14T12:04:48.508169Z",
     "iopub.status.idle": "2022-03-14T12:04:48.511563Z",
     "shell.execute_reply": "2022-03-14T12:04:48.511127Z",
     "shell.execute_reply.started": "2022-03-14T11:57:02.289914Z"
    },
    "papermill": {
     "duration": 0.028857,
     "end_time": "2022-03-14T12:04:48.511662",
     "exception": false,
     "start_time": "2022-03-14T12:04:48.482805",
     "status": "completed"
    },
    "tags": []
   },
   "outputs": [],
   "source": [
    "def train(epoch):\n",
    "    loss_list = []\n",
    "    model.train()\n",
    "    for batch_idx, (data, target) in enumerate(train_loader):\n",
    "        data = data.reshape(-1, 28 * 28).to(device)\n",
    "        target = target.to(device)\n",
    "        #print(data[1])\n",
    "        output = model(data)\n",
    "        loss = criterion(output, target)\n",
    "        \n",
    "        optimizer.zero_grad()\n",
    "        loss.backward()\n",
    "        optimizer.step()\n",
    "        \n",
    "        if (batch_idx + 1) % 50 == 0:\n",
    "            print('Train Epoch: {} [{}/{} ({:.0f}%)]\\tLoss: {:.6f}'.format(\n",
    "                epoch, (batch_idx + 1) * len(data), len(train_loader.dataset),\n",
    "                       100. * (batch_idx + 1) / len(train_loader), loss.item()))\n",
    "            loss_list.append(loss.item())\n",
    "    \n",
    "    exp_lr_scheduler.step()\n",
    "    return loss_list"
   ]
  },
  {
   "cell_type": "code",
   "execution_count": 12,
   "id": "b7650b52",
   "metadata": {
    "execution": {
     "iopub.execute_input": "2022-03-14T12:04:48.553348Z",
     "iopub.status.busy": "2022-03-14T12:04:48.552835Z",
     "iopub.status.idle": "2022-03-14T12:06:34.819336Z",
     "shell.execute_reply": "2022-03-14T12:06:34.819761Z",
     "shell.execute_reply.started": "2022-03-14T11:57:02.980789Z"
    },
    "papermill": {
     "duration": 106.289559,
     "end_time": "2022-03-14T12:06:34.819917",
     "exception": false,
     "start_time": "2022-03-14T12:04:48.530358",
     "status": "completed"
    },
    "tags": []
   },
   "outputs": [
    {
     "name": "stdout",
     "output_type": "stream",
     "text": [
      "Train Epoch: 0 [3200/42000 (8%)]\tLoss: 0.907041\n",
      "Train Epoch: 0 [6400/42000 (15%)]\tLoss: 0.576105\n",
      "Train Epoch: 0 [9600/42000 (23%)]\tLoss: 0.590087\n",
      "Train Epoch: 0 [12800/42000 (30%)]\tLoss: 0.389857\n",
      "Train Epoch: 0 [16000/42000 (38%)]\tLoss: 0.335493\n",
      "Train Epoch: 0 [19200/42000 (46%)]\tLoss: 0.292748\n",
      "Train Epoch: 0 [22400/42000 (53%)]\tLoss: 0.465173\n",
      "Train Epoch: 0 [25600/42000 (61%)]\tLoss: 0.432185\n",
      "Train Epoch: 0 [28800/42000 (68%)]\tLoss: 0.341711\n",
      "Train Epoch: 0 [32000/42000 (76%)]\tLoss: 0.391231\n",
      "Train Epoch: 0 [35200/42000 (84%)]\tLoss: 0.343521\n",
      "Train Epoch: 0 [38400/42000 (91%)]\tLoss: 0.361000\n",
      "Train Epoch: 0 [41600/42000 (99%)]\tLoss: 0.400883\n",
      "Train Epoch: 1 [3200/42000 (8%)]\tLoss: 0.315943\n",
      "Train Epoch: 1 [6400/42000 (15%)]\tLoss: 0.496202\n",
      "Train Epoch: 1 [9600/42000 (23%)]\tLoss: 0.311237\n",
      "Train Epoch: 1 [12800/42000 (30%)]\tLoss: 0.180729\n",
      "Train Epoch: 1 [16000/42000 (38%)]\tLoss: 0.271052\n",
      "Train Epoch: 1 [19200/42000 (46%)]\tLoss: 0.222512\n",
      "Train Epoch: 1 [22400/42000 (53%)]\tLoss: 0.321523\n",
      "Train Epoch: 1 [25600/42000 (61%)]\tLoss: 0.496047\n",
      "Train Epoch: 1 [28800/42000 (68%)]\tLoss: 0.365742\n",
      "Train Epoch: 1 [32000/42000 (76%)]\tLoss: 0.284962\n",
      "Train Epoch: 1 [35200/42000 (84%)]\tLoss: 0.261676\n",
      "Train Epoch: 1 [38400/42000 (91%)]\tLoss: 0.119122\n",
      "Train Epoch: 1 [41600/42000 (99%)]\tLoss: 0.320698\n",
      "Train Epoch: 2 [3200/42000 (8%)]\tLoss: 0.262536\n",
      "Train Epoch: 2 [6400/42000 (15%)]\tLoss: 0.199234\n",
      "Train Epoch: 2 [9600/42000 (23%)]\tLoss: 0.315908\n",
      "Train Epoch: 2 [12800/42000 (30%)]\tLoss: 0.220208\n",
      "Train Epoch: 2 [16000/42000 (38%)]\tLoss: 0.246481\n",
      "Train Epoch: 2 [19200/42000 (46%)]\tLoss: 0.249952\n",
      "Train Epoch: 2 [22400/42000 (53%)]\tLoss: 0.227524\n",
      "Train Epoch: 2 [25600/42000 (61%)]\tLoss: 0.141386\n",
      "Train Epoch: 2 [28800/42000 (68%)]\tLoss: 0.343264\n",
      "Train Epoch: 2 [32000/42000 (76%)]\tLoss: 0.206930\n",
      "Train Epoch: 2 [35200/42000 (84%)]\tLoss: 0.062006\n",
      "Train Epoch: 2 [38400/42000 (91%)]\tLoss: 0.167335\n",
      "Train Epoch: 2 [41600/42000 (99%)]\tLoss: 0.422592\n",
      "Train Epoch: 3 [3200/42000 (8%)]\tLoss: 0.168385\n",
      "Train Epoch: 3 [6400/42000 (15%)]\tLoss: 0.139868\n",
      "Train Epoch: 3 [9600/42000 (23%)]\tLoss: 0.131846\n",
      "Train Epoch: 3 [12800/42000 (30%)]\tLoss: 0.208387\n",
      "Train Epoch: 3 [16000/42000 (38%)]\tLoss: 0.134394\n",
      "Train Epoch: 3 [19200/42000 (46%)]\tLoss: 0.155351\n",
      "Train Epoch: 3 [22400/42000 (53%)]\tLoss: 0.243821\n",
      "Train Epoch: 3 [25600/42000 (61%)]\tLoss: 0.106419\n",
      "Train Epoch: 3 [28800/42000 (68%)]\tLoss: 0.101260\n",
      "Train Epoch: 3 [32000/42000 (76%)]\tLoss: 0.107974\n",
      "Train Epoch: 3 [35200/42000 (84%)]\tLoss: 0.292974\n",
      "Train Epoch: 3 [38400/42000 (91%)]\tLoss: 0.084529\n",
      "Train Epoch: 3 [41600/42000 (99%)]\tLoss: 0.035774\n",
      "Train Epoch: 4 [3200/42000 (8%)]\tLoss: 0.246045\n",
      "Train Epoch: 4 [6400/42000 (15%)]\tLoss: 0.142480\n",
      "Train Epoch: 4 [9600/42000 (23%)]\tLoss: 0.137758\n",
      "Train Epoch: 4 [12800/42000 (30%)]\tLoss: 0.083947\n",
      "Train Epoch: 4 [16000/42000 (38%)]\tLoss: 0.142238\n",
      "Train Epoch: 4 [19200/42000 (46%)]\tLoss: 0.187135\n",
      "Train Epoch: 4 [22400/42000 (53%)]\tLoss: 0.154784\n",
      "Train Epoch: 4 [25600/42000 (61%)]\tLoss: 0.053784\n",
      "Train Epoch: 4 [28800/42000 (68%)]\tLoss: 0.162675\n",
      "Train Epoch: 4 [32000/42000 (76%)]\tLoss: 0.168021\n",
      "Train Epoch: 4 [35200/42000 (84%)]\tLoss: 0.263171\n",
      "Train Epoch: 4 [38400/42000 (91%)]\tLoss: 0.206777\n",
      "Train Epoch: 4 [41600/42000 (99%)]\tLoss: 0.214660\n",
      "Train Epoch: 5 [3200/42000 (8%)]\tLoss: 0.071514\n",
      "Train Epoch: 5 [6400/42000 (15%)]\tLoss: 0.242967\n",
      "Train Epoch: 5 [9600/42000 (23%)]\tLoss: 0.095301\n",
      "Train Epoch: 5 [12800/42000 (30%)]\tLoss: 0.157086\n",
      "Train Epoch: 5 [16000/42000 (38%)]\tLoss: 0.059210\n",
      "Train Epoch: 5 [19200/42000 (46%)]\tLoss: 0.198733\n",
      "Train Epoch: 5 [22400/42000 (53%)]\tLoss: 0.095124\n",
      "Train Epoch: 5 [25600/42000 (61%)]\tLoss: 0.184569\n",
      "Train Epoch: 5 [28800/42000 (68%)]\tLoss: 0.257011\n",
      "Train Epoch: 5 [32000/42000 (76%)]\tLoss: 0.082902\n",
      "Train Epoch: 5 [35200/42000 (84%)]\tLoss: 0.108041\n",
      "Train Epoch: 5 [38400/42000 (91%)]\tLoss: 0.105749\n",
      "Train Epoch: 5 [41600/42000 (99%)]\tLoss: 0.033370\n",
      "Train Epoch: 6 [3200/42000 (8%)]\tLoss: 0.179945\n",
      "Train Epoch: 6 [6400/42000 (15%)]\tLoss: 0.197331\n",
      "Train Epoch: 6 [9600/42000 (23%)]\tLoss: 0.090047\n",
      "Train Epoch: 6 [12800/42000 (30%)]\tLoss: 0.177434\n",
      "Train Epoch: 6 [16000/42000 (38%)]\tLoss: 0.052007\n",
      "Train Epoch: 6 [19200/42000 (46%)]\tLoss: 0.150278\n",
      "Train Epoch: 6 [22400/42000 (53%)]\tLoss: 0.194662\n",
      "Train Epoch: 6 [25600/42000 (61%)]\tLoss: 0.067227\n",
      "Train Epoch: 6 [28800/42000 (68%)]\tLoss: 0.092953\n",
      "Train Epoch: 6 [32000/42000 (76%)]\tLoss: 0.227475\n",
      "Train Epoch: 6 [35200/42000 (84%)]\tLoss: 0.055600\n",
      "Train Epoch: 6 [38400/42000 (91%)]\tLoss: 0.081286\n",
      "Train Epoch: 6 [41600/42000 (99%)]\tLoss: 0.193308\n",
      "Train Epoch: 7 [3200/42000 (8%)]\tLoss: 0.018086\n",
      "Train Epoch: 7 [6400/42000 (15%)]\tLoss: 0.181505\n",
      "Train Epoch: 7 [9600/42000 (23%)]\tLoss: 0.037128\n",
      "Train Epoch: 7 [12800/42000 (30%)]\tLoss: 0.184347\n",
      "Train Epoch: 7 [16000/42000 (38%)]\tLoss: 0.088035\n",
      "Train Epoch: 7 [19200/42000 (46%)]\tLoss: 0.200013\n",
      "Train Epoch: 7 [22400/42000 (53%)]\tLoss: 0.177996\n",
      "Train Epoch: 7 [25600/42000 (61%)]\tLoss: 0.116376\n",
      "Train Epoch: 7 [28800/42000 (68%)]\tLoss: 0.059038\n",
      "Train Epoch: 7 [32000/42000 (76%)]\tLoss: 0.118810\n",
      "Train Epoch: 7 [35200/42000 (84%)]\tLoss: 0.021407\n",
      "Train Epoch: 7 [38400/42000 (91%)]\tLoss: 0.124913\n",
      "Train Epoch: 7 [41600/42000 (99%)]\tLoss: 0.155359\n",
      "Train Epoch: 8 [3200/42000 (8%)]\tLoss: 0.059471\n",
      "Train Epoch: 8 [6400/42000 (15%)]\tLoss: 0.182773\n",
      "Train Epoch: 8 [9600/42000 (23%)]\tLoss: 0.034231\n",
      "Train Epoch: 8 [12800/42000 (30%)]\tLoss: 0.052202\n",
      "Train Epoch: 8 [16000/42000 (38%)]\tLoss: 0.104000\n",
      "Train Epoch: 8 [19200/42000 (46%)]\tLoss: 0.094895\n",
      "Train Epoch: 8 [22400/42000 (53%)]\tLoss: 0.154095\n",
      "Train Epoch: 8 [25600/42000 (61%)]\tLoss: 0.073933\n",
      "Train Epoch: 8 [28800/42000 (68%)]\tLoss: 0.185034\n",
      "Train Epoch: 8 [32000/42000 (76%)]\tLoss: 0.043686\n",
      "Train Epoch: 8 [35200/42000 (84%)]\tLoss: 0.100634\n",
      "Train Epoch: 8 [38400/42000 (91%)]\tLoss: 0.056783\n",
      "Train Epoch: 8 [41600/42000 (99%)]\tLoss: 0.085350\n",
      "Train Epoch: 9 [3200/42000 (8%)]\tLoss: 0.035722\n",
      "Train Epoch: 9 [6400/42000 (15%)]\tLoss: 0.064557\n",
      "Train Epoch: 9 [9600/42000 (23%)]\tLoss: 0.031043\n",
      "Train Epoch: 9 [12800/42000 (30%)]\tLoss: 0.043578\n",
      "Train Epoch: 9 [16000/42000 (38%)]\tLoss: 0.079601\n",
      "Train Epoch: 9 [19200/42000 (46%)]\tLoss: 0.065487\n",
      "Train Epoch: 9 [22400/42000 (53%)]\tLoss: 0.020005\n",
      "Train Epoch: 9 [25600/42000 (61%)]\tLoss: 0.098098\n",
      "Train Epoch: 9 [28800/42000 (68%)]\tLoss: 0.035525\n",
      "Train Epoch: 9 [32000/42000 (76%)]\tLoss: 0.018477\n",
      "Train Epoch: 9 [35200/42000 (84%)]\tLoss: 0.067306\n",
      "Train Epoch: 9 [38400/42000 (91%)]\tLoss: 0.041063\n",
      "Train Epoch: 9 [41600/42000 (99%)]\tLoss: 0.059195\n"
     ]
    },
    {
     "data": {
      "image/png": "[encoded data removed]",
      "text/plain": [
       "<Figure size 720x720 with 1 Axes>"
      ]
     },
     "metadata": {
      "needs_background": "light"
     },
     "output_type": "display_data"
    }
   ],
   "source": [
    "log = []\n",
    "n_epochs = 10\n",
    "for epoch in range(n_epochs):\n",
    "    loss = train(epoch)\n",
    "    log += loss\n",
    "   \n",
    "plt.figure(figsize=(10, 10))\n",
    "plt.plot(log)\n",
    "plt.show()"
   ]
  },
  {
   "cell_type": "code",
   "execution_count": 13,
   "id": "9820edb9",
   "metadata": {
    "execution": {
     "iopub.execute_input": "2022-03-14T12:06:34.942364Z",
     "iopub.status.busy": "2022-03-14T12:06:34.941804Z",
     "iopub.status.idle": "2022-03-14T12:06:35.653529Z",
     "shell.execute_reply": "2022-03-14T12:06:35.653037Z",
     "shell.execute_reply.started": "2022-03-14T11:55:45.604510Z"
    },
    "papermill": {
     "duration": 0.774327,
     "end_time": "2022-03-14T12:06:35.653658",
     "exception": false,
     "start_time": "2022-03-14T12:06:34.879331",
     "status": "completed"
    },
    "tags": []
   },
   "outputs": [
    {
     "name": "stdout",
     "output_type": "stream",
     "text": [
      "Mon Mar 14 12:06:35 2022       \r\n",
      "+-----------------------------------------------------------------------------+\r\n",
      "| NVIDIA-SMI 450.119.04   Driver Version: 450.119.04   CUDA Version: 11.0     |\r\n",
      "|-------------------------------+----------------------+----------------------+\r\n",
      "| GPU  Name        Persistence-M| Bus-Id        Disp.A | Volatile Uncorr. ECC |\r\n",
      "| Fan  Temp  Perf  Pwr:Usage/Cap|         Memory-Usage | GPU-Util  Compute M. |\r\n",
      "|                               |                      |               MIG M. |\r\n",
      "|===============================+======================+======================|\r\n",
      "|   0  Tesla P100-PCIE...  Off  | 00000000:00:04.0 Off |                    0 |\r\n",
      "| N/A   36C    P0    32W / 250W |    829MiB / 16280MiB |      0%      Default |\r\n",
      "|                               |                      |                  N/A |\r\n",
      "+-------------------------------+----------------------+----------------------+\r\n",
      "                                                                               \r\n",
      "+-----------------------------------------------------------------------------+\r\n",
      "| Processes:                                                                  |\r\n",
      "|  GPU   GI   CI        PID   Type   Process name                  GPU Memory |\r\n",
      "|        ID   ID                                                   Usage      |\r\n",
      "|=============================================================================|\r\n",
      "+-----------------------------------------------------------------------------+\r\n"
     ]
    }
   ],
   "source": [
    "!nvidia-smi"
   ]
  },
  {
   "cell_type": "code",
   "execution_count": 14,
   "id": "0d0a0bfc",
   "metadata": {
    "execution": {
     "iopub.execute_input": "2022-03-14T12:06:35.783147Z",
     "iopub.status.busy": "2022-03-14T12:06:35.782519Z",
     "iopub.status.idle": "2022-03-14T12:06:35.785251Z",
     "shell.execute_reply": "2022-03-14T12:06:35.785648Z",
     "shell.execute_reply.started": "2022-03-14T11:45:36.723915Z"
    },
    "papermill": {
     "duration": 0.070378,
     "end_time": "2022-03-14T12:06:35.785770",
     "exception": false,
     "start_time": "2022-03-14T12:06:35.715392",
     "status": "completed"
    },
    "tags": []
   },
   "outputs": [
    {
     "data": {
      "text/plain": [
       "[1, 2, 1, 2]"
      ]
     },
     "execution_count": 14,
     "metadata": {},
     "output_type": "execute_result"
    }
   ],
   "source": [
    "x=[1,2]\n",
    "x+=[1,2]\n",
    "x"
   ]
  },
  {
   "cell_type": "code",
   "execution_count": null,
   "id": "11470f9b",
   "metadata": {
    "papermill": {
     "duration": 0.0652,
     "end_time": "2022-03-14T12:06:35.912603",
     "exception": false,
     "start_time": "2022-03-14T12:06:35.847403",
     "status": "completed"
    },
    "tags": []
   },
   "outputs": [],
   "source": []
  }
 ],
 "metadata": {
  "kernelspec": {
   "display_name": "Python 3",
   "language": "python",
   "name": "python3"
  },
  "language_info": {
   "codemirror_mode": {
    "name": "ipython",
    "version": 3
   },
   "file_extension": ".py",
   "mimetype": "text/x-python",
   "name": "python",
   "nbconvert_exporter": "python",
   "pygments_lexer": "ipython3",
   "version": "3.7.12"
  },
  "papermill": {
   "default_parameters": {},
   "duration": 126.693423,
   "end_time": "2022-03-14T12:06:36.983758",
   "environment_variables": {},
   "exception": null,
   "input_path": "__notebook__.ipynb",
   "output_path": "__notebook__.ipynb",
   "parameters": {},
   "start_time": "2022-03-14T12:04:30.290335",
   "version": "2.3.3"
  }
 },
 "nbformat": 4,
 "nbformat_minor": 5
}
